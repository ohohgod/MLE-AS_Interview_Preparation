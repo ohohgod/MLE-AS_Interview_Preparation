{
 "cells": [
  {
   "cell_type": "markdown",
   "metadata": {},
   "source": [
    "PLEASE USE EXPLICIT PARAMETER FOR EACH METHOD/FUNCTION"
   ]
  },
  {
   "cell_type": "markdown",
   "metadata": {},
   "source": [
    "## Data types\n",
    "\n",
    "### Numbers"
   ]
  },
  {
   "cell_type": "code",
   "execution_count": 1,
   "metadata": {
    "collapsed": false
   },
   "outputs": [
    {
     "data": {
      "text/plain": [
       "2.0"
      ]
     },
     "execution_count": 1,
     "metadata": {},
     "output_type": "execute_result"
    }
   ],
   "source": [
    "# How to do remaider calculation?\n",
    "14.0 // 5"
   ]
  },
  {
   "cell_type": "markdown",
   "metadata": {},
   "source": [
    "### Variable Assignment"
   ]
  },
  {
   "cell_type": "code",
   "execution_count": 21,
   "metadata": {
    "collapsed": false
   },
   "outputs": [],
   "source": [
    "# Do a self addition of variable and see what happen\n"
   ]
  },
  {
   "cell_type": "markdown",
   "metadata": {},
   "source": [
    "### Strings / Print"
   ]
  },
  {
   "cell_type": "code",
   "execution_count": 7,
   "metadata": {
    "collapsed": false
   },
   "outputs": [
    {
     "data": {
      "text/plain": [
       "['a', 'b', 'c']"
      ]
     },
     "execution_count": 7,
     "metadata": {},
     "output_type": "execute_result"
    }
   ],
   "source": [
    "# How to do passing variables into a string, please do both the format\n",
    "\"abd{}\".format(1)\n",
    "# How to do string slice? From head, to end, etc. Be careful what is included/excluded\n",
    "\n",
    "# How to lower case a string?\n",
    "[x.lower() for x in \"abc\" ]\n",
    "# How to remove all punctuation from a string? \n",
    "[x not in \"a\" for x in \"abc\" ]\n",
    "\n",
    "#Tips: use replace functoin, or iterate through the string and construct a new one(not in)\n",
    "\n",
    "# How is split function used?\n",
    "\"a b c\".split(\" \")"
   ]
  },
  {
   "cell_type": "markdown",
   "metadata": {},
   "source": [
    "### Lists"
   ]
  },
  {
   "cell_type": "code",
   "execution_count": 38,
   "metadata": {
    "collapsed": false
   },
   "outputs": [
    {
     "data": {
      "text/plain": [
       "1"
      ]
     },
     "execution_count": 38,
     "metadata": {},
     "output_type": "execute_result"
    }
   ],
   "source": [
    "# Make a list\n",
    "[1,2,3]\n",
    "# Make a list using list()\n",
    "list([1,2,3])\n",
    "# Slice a list\n",
    "[1,2,3][1]\n",
    "# Assign a list spot with a new value\n",
    "\n",
    "# Create a nested list; select a nested value\n",
    "\n",
    "# What's usage of list() function?\n",
    "\n",
    "# Count ocurrance of an value in the list\n",
    "[1,2,3,4].count(1)\n",
    "# Check if a element is in the list?\n",
    "\n",
    "# product of a list? (use numpy)\n",
    "import numpy as np\n",
    "np.dot(np.array([1,2,3]).T, np.array([1,2,3]))\n",
    "# append/add head to a list?\n",
    "[1,2,3].append(4)\n",
    "[1,2,3].insert(0,4)\n",
    "# remove element by index?\n",
    "tmp = [1,2,3]\n",
    "tmp.pop(1)\n",
    "tmp\n",
    "# Return index of a specified element in the list\n",
    "#list.index(element)\n",
    "tmp.index(3) #ToMemorize\n",
    "\n",
    "\n",
    "# Put a list of char into a string?\n",
    "#\"\".join([\"a\", \"b\", \"c\"])  #ToMemorize\n",
    "\n",
    "# remove a value from list\n",
    "\n",
    "# pop the first value from list"
   ]
  },
  {
   "cell_type": "code",
   "execution_count": null,
   "metadata": {
    "collapsed": true
   },
   "outputs": [],
   "source": []
  },
  {
   "cell_type": "markdown",
   "metadata": {},
   "source": [
    "### Dictionaries"
   ]
  },
  {
   "cell_type": "code",
   "execution_count": 48,
   "metadata": {
    "collapsed": false
   },
   "outputs": [
    {
     "data": {
      "text/plain": [
       "{2: 4, 3: 5}"
      ]
     },
     "execution_count": 48,
     "metadata": {},
     "output_type": "execute_result"
    }
   ],
   "source": [
    "# Create a dictionary out of two list(keys and values)\n",
    "keys = [1,2,3]\n",
    "values = [3,4,5]\n",
    "d = dict(zip(keys, values))\n",
    "d\n",
    "# Use dict() function to create a dictionary\n",
    "\n",
    "# Select a value in a dictionary\n",
    "d[1]\n",
    "# Create a nested dictionary\n",
    "\n",
    "# Seperate a dictionary into index & value lists\n",
    "d.values()\n",
    "d.keys()\n",
    "# Put all keys/values in the dictions to a numpy array\n",
    "\n",
    "# Delete a key in a dictionary\n",
    "d.pop(1)\n",
    "d\n",
    "# Notice: accessing a value in dictionary(hash table) is on avg O(1), worst case O(N)"
   ]
  },
  {
   "cell_type": "markdown",
   "metadata": {},
   "source": [
    "### Tuples "
   ]
  },
  {
   "cell_type": "code",
   "execution_count": 49,
   "metadata": {
    "collapsed": false
   },
   "outputs": [
    {
     "data": {
      "text/plain": [
       "(1, 2)"
      ]
     },
     "execution_count": 49,
     "metadata": {},
     "output_type": "execute_result"
    }
   ],
   "source": [
    "# Create a tuple\n",
    "(1,2)\n",
    "# What's the difference between tuple and list?"
   ]
  },
  {
   "cell_type": "markdown",
   "metadata": {},
   "source": [
    "### Sets"
   ]
  },
  {
   "cell_type": "code",
   "execution_count": 53,
   "metadata": {
    "collapsed": false
   },
   "outputs": [
    {
     "data": {
      "text/plain": [
       "{1, 2, 3}"
      ]
     },
     "execution_count": 53,
     "metadata": {},
     "output_type": "execute_result"
    }
   ],
   "source": [
    "# Create a set\n",
    "{1,2}\n",
    "# What's the difference between set and list?\n",
    "\n",
    "# Add a element to a list\n",
    "a = {1,2}\n",
    "a.add(3)\n",
    "a\n",
    "\n",
    "# remove a value from set\n",
    "a.remove(1)"
   ]
  },
  {
   "cell_type": "markdown",
   "metadata": {},
   "source": [
    "## Logic Operators"
   ]
  },
  {
   "cell_type": "code",
   "execution_count": 55,
   "metadata": {
    "collapsed": false
   },
   "outputs": [
    {
     "data": {
      "text/plain": [
       "True"
      ]
     },
     "execution_count": 55,
     "metadata": {},
     "output_type": "execute_result"
    }
   ],
   "source": [
    "## Perform a logic operation"
   ]
  },
  {
   "cell_type": "markdown",
   "metadata": {},
   "source": [
    "## if,elif, else Statements"
   ]
  },
  {
   "cell_type": "code",
   "execution_count": 60,
   "metadata": {
    "collapsed": false
   },
   "outputs": [
    {
     "name": "stdout",
     "output_type": "stream",
     "text": [
      "middle\n"
     ]
    }
   ],
   "source": [
    "# Perform a if elif else "
   ]
  },
  {
   "cell_type": "markdown",
   "metadata": {},
   "source": [
    "## for Loops"
   ]
  },
  {
   "cell_type": "code",
   "execution_count": 57,
   "metadata": {
    "collapsed": false
   },
   "outputs": [
    {
     "name": "stdout",
     "output_type": "stream",
     "text": [
      "0\n",
      "here\n",
      "1\n"
     ]
    }
   ],
   "source": [
    "## Perform a for loop in a list\n",
    "for i in range(3):\n",
    "    print(i)\n",
    "    if i ==1:\n",
    "        break\n",
    "    print(\"here\")\n",
    "## how to skip a loop: if ....: continue"
   ]
  },
  {
   "cell_type": "markdown",
   "metadata": {},
   "source": [
    "## while Loops"
   ]
  },
  {
   "cell_type": "code",
   "execution_count": 58,
   "metadata": {
    "collapsed": false
   },
   "outputs": [
    {
     "name": "stdout",
     "output_type": "stream",
     "text": [
      "1\n"
     ]
    }
   ],
   "source": [
    "# Perform a while loop\n",
    "i=1\n",
    "while i == 1:\n",
    "    print(i)\n",
    "    i+=1"
   ]
  },
  {
   "cell_type": "markdown",
   "metadata": {},
   "source": [
    "## range()"
   ]
  },
  {
   "cell_type": "code",
   "execution_count": 27,
   "metadata": {
    "collapsed": false
   },
   "outputs": [],
   "source": [
    "# Create a range\n",
    "\n",
    "# Perform a for loop using range\n"
   ]
  },
  {
   "cell_type": "markdown",
   "metadata": {},
   "source": [
    "## list comprehension"
   ]
  },
  {
   "cell_type": "code",
   "execution_count": null,
   "metadata": {
    "collapsed": true
   },
   "outputs": [],
   "source": [
    "# Create a list using list comprehension\n"
   ]
  },
  {
   "cell_type": "markdown",
   "metadata": {},
   "source": [
    "## functions"
   ]
  },
  {
   "cell_type": "code",
   "execution_count": 31,
   "metadata": {
    "collapsed": false,
    "scrolled": true
   },
   "outputs": [],
   "source": [
    "# Define a square function\n",
    "\n",
    "# Recall the way to quickly check a funtion\n"
   ]
  },
  {
   "cell_type": "markdown",
   "metadata": {},
   "source": [
    "## lambda expressions"
   ]
  },
  {
   "cell_type": "code",
   "execution_count": 62,
   "metadata": {
    "collapsed": false
   },
   "outputs": [
    {
     "data": {
      "text/plain": [
       "20"
      ]
     },
     "execution_count": 62,
     "metadata": {},
     "output_type": "execute_result"
    }
   ],
   "source": [
    "# Write a lambda expression for times2\n",
    "b = lambda x: x + 10\n",
    "b(10)"
   ]
  },
  {
   "cell_type": "code",
   "execution_count": 84,
   "metadata": {
    "collapsed": false
   },
   "outputs": [
    {
     "data": {
      "text/plain": [
       "'true'"
      ]
     },
     "execution_count": 84,
     "metadata": {},
     "output_type": "execute_result"
    }
   ],
   "source": [
    "\"true\" * True"
   ]
  },
  {
   "cell_type": "code",
   "execution_count": null,
   "metadata": {
    "collapsed": true
   },
   "outputs": [],
   "source": []
  },
  {
   "cell_type": "markdown",
   "metadata": {},
   "source": [
    "## map and filter\n",
    "So numpy array and list are using \"map\" to do the mapping; <br>\n",
    "while pandas series uses the \"apply\" to do the mapping; <br>\n",
    "Make sure to memorize the order of the map function input; <br>\n",
    "Make sure to memorize the \"map\" and \"filter\" function usage(not a method, but a function)"
   ]
  },
  {
   "cell_type": "code",
   "execution_count": 78,
   "metadata": {
    "collapsed": false
   },
   "outputs": [
    {
     "data": {
      "text/plain": [
       "['flower', 'apple', 'flower', 'apple']"
      ]
     },
     "execution_count": 78,
     "metadata": {},
     "output_type": "execute_result"
    }
   ],
   "source": [
    "# Use lambda function to do a map on list: multiply by 2\n",
    "b = lambda x: (x==1)*\"flower\" + (x==2)*\"apple\"\n",
    "map(b, [1,2,1,2])\n",
    "\n",
    "# Use lambda function to do a map on dataframe: by case multiplication\n",
    "\n",
    "# Use lambda function to do a filter\n"
   ]
  },
  {
   "cell_type": "markdown",
   "metadata": {},
   "source": [
    "## methods"
   ]
  },
  {
   "cell_type": "code",
   "execution_count": null,
   "metadata": {
    "collapsed": true
   },
   "outputs": [],
   "source": [
    "# Change a string to all lower case\n",
    "\n",
    "# Change a string to all upper case\n",
    "\n",
    "# Split a string by tokens/assigned dilimiter\n",
    "\n",
    "# How to check what's keys in the dictionary? What about items?\n",
    "\n",
    "# How to pop up the last value of a list\n",
    "\n",
    "# How to check if sth is inside a list\n",
    "\n",
    "# Tuple unpacking: given a list of two value tuples, how to pop up first ones?"
   ]
  },
  {
   "cell_type": "code",
   "execution_count": 5,
   "metadata": {
    "collapsed": false
   },
   "outputs": [
    {
     "data": {
      "text/plain": [
       "1    2\n",
       "0    1\n",
       "dtype: int64"
      ]
     },
     "execution_count": 5,
     "metadata": {},
     "output_type": "execute_result"
    }
   ],
   "source": [
    "\n",
    "pd.Series([1,2,3]).sample(2)"
   ]
  },
  {
   "cell_type": "markdown",
   "metadata": {},
   "source": [
    "### Random sample"
   ]
  },
  {
   "cell_type": "code",
   "execution_count": 7,
   "metadata": {
    "collapsed": false
   },
   "outputs": [],
   "source": [
    "# Sampling one element from a list\n",
    "from random import choice\n",
    "choice([1,2,3])\n",
    "\n",
    "# Sampling one/more element from a pandas series\n",
    "import pandas as pd\n",
    "pd.Series([1,2,3]).sample(2)\n",
    "\n",
    "# Shuffle a dataframe for specific ratio train/test sampling\n",
    "from sklearn.utils import shuffle\n",
    "df = shuffle(pd.Series([1,2,3]))"
   ]
  },
  {
   "cell_type": "code",
   "execution_count": null,
   "metadata": {
    "collapsed": true
   },
   "outputs": [],
   "source": []
  },
  {
   "cell_type": "markdown",
   "metadata": {},
   "source": [
    "## Other useful data strucutures"
   ]
  },
  {
   "cell_type": "code",
   "execution_count": 14,
   "metadata": {
    "collapsed": false
   },
   "outputs": [
    {
     "data": {
      "text/plain": [
       "deque([2, 3, 4])"
      ]
     },
     "execution_count": 14,
     "metadata": {},
     "output_type": "execute_result"
    }
   ],
   "source": [
    "# Queue\n",
    "from collections import deque\n",
    "\n",
    "a = deque([1,2,3])\n",
    "a.popleft()\n",
    "a.append(4)\n",
    "a"
   ]
  },
  {
   "cell_type": "code",
   "execution_count": null,
   "metadata": {
    "collapsed": true
   },
   "outputs": [],
   "source": []
  },
  {
   "cell_type": "code",
   "execution_count": null,
   "metadata": {
    "collapsed": true
   },
   "outputs": [],
   "source": []
  },
  {
   "cell_type": "code",
   "execution_count": null,
   "metadata": {
    "collapsed": true
   },
   "outputs": [],
   "source": []
  },
  {
   "cell_type": "markdown",
   "metadata": {},
   "source": [
    "# others"
   ]
  },
  {
   "cell_type": "code",
   "execution_count": null,
   "metadata": {
    "collapsed": true
   },
   "outputs": [],
   "source": [
    "# 最后还问了如果不是csv的文件，怎么用python read line by line"
   ]
  },
  {
   "cell_type": "code",
   "execution_count": null,
   "metadata": {
    "collapsed": true
   },
   "outputs": [],
   "source": []
  },
  {
   "cell_type": "markdown",
   "metadata": {},
   "source": [
    "# Great Job!"
   ]
  }
 ],
 "metadata": {
  "anaconda-cloud": {},
  "kernelspec": {
   "display_name": "Python [default]",
   "language": "python",
   "name": "python2"
  },
  "language_info": {
   "codemirror_mode": {
    "name": "ipython",
    "version": 2
   },
   "file_extension": ".py",
   "mimetype": "text/x-python",
   "name": "python",
   "nbconvert_exporter": "python",
   "pygments_lexer": "ipython2",
   "version": "2.7.12"
  }
 },
 "nbformat": 4,
 "nbformat_minor": 1
}
