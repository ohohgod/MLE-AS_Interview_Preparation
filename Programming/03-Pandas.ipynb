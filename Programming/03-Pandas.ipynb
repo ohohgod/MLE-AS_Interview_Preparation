{
 "cells": [
  {
   "cell_type": "markdown",
   "metadata": {
    "collapsed": true
   },
   "source": [
    "PLEASE USE EXPLICIT PARAMETER FOR EACH METHOD/FUNCTION"
   ]
  },
  {
   "cell_type": "code",
   "execution_count": 1,
   "metadata": {
    "collapsed": true
   },
   "outputs": [],
   "source": [
    "#Pandas could be thought as python version of R/excel"
   ]
  },
  {
   "cell_type": "code",
   "execution_count": 2,
   "metadata": {
    "collapsed": true
   },
   "outputs": [],
   "source": [
    "# Pandas series: built on top of numpy array, very similar to it; \n",
    "# difference is series could be accessed by label"
   ]
  },
  {
   "cell_type": "code",
   "execution_count": 3,
   "metadata": {
    "collapsed": true
   },
   "outputs": [],
   "source": [
    "import pandas as pd\n",
    "import numpy as np"
   ]
  },
  {
   "cell_type": "code",
   "execution_count": 4,
   "metadata": {
    "collapsed": false
   },
   "outputs": [
    {
     "data": {
      "text/plain": [
       "1    1\n",
       "2    2\n",
       "3    3\n",
       "dtype: int64"
      ]
     },
     "execution_count": 4,
     "metadata": {},
     "output_type": "execute_result"
    }
   ],
   "source": [
    "### Please specify the paramter names in the following:\n",
    "pd.Series()\n",
    "\n",
    "# Please create a series with: a data list\n",
    "pd.Series([1,2,3])\n",
    "# Please create a series with: a data list and a index list\n",
    "pd.Series([\"a\",2,3], index = [1,2,3])\n",
    "# Please create a series with: a data np array and index list\n",
    "pd.Series(np.array([\"a\",2,3]), index = [1,2,3])\n",
    "# Please create a series with: a dictionary\n",
    "pd.Series({\"a\":1, \"b\": 2})\n",
    "# Select a values from a series by index\n",
    "pd.Series({\"a\":1, \"b\": 2})[\"a\"]\n",
    "# Add up two series with mis-matching labels\n",
    "pd.Series(np.array([\"a\",2,3]), index = [1,2,3]) + pd.Series(np.array([\"a\",2,3]), index = [4, 2,3])\n",
    "# Sort a series(notice, you can't specify the column name in this case)\n",
    "pd.Series(np.array([1,2,3]), index = [1,2,3]).sort_values()"
   ]
  },
  {
   "cell_type": "code",
   "execution_count": 161,
   "metadata": {
    "collapsed": false
   },
   "outputs": [
    {
     "data": {
      "text/html": [
       "<div>\n",
       "<style scoped>\n",
       "    .dataframe tbody tr th:only-of-type {\n",
       "        vertical-align: middle;\n",
       "    }\n",
       "\n",
       "    .dataframe tbody tr th {\n",
       "        vertical-align: top;\n",
       "    }\n",
       "\n",
       "    .dataframe thead th {\n",
       "        text-align: right;\n",
       "    }\n",
       "</style>\n",
       "<table border=\"1\" class=\"dataframe\">\n",
       "  <thead>\n",
       "    <tr style=\"text-align: right;\">\n",
       "      <th></th>\n",
       "      <th>0</th>\n",
       "      <th>2</th>\n",
       "      <th>3</th>\n",
       "      <th>4</th>\n",
       "    </tr>\n",
       "  </thead>\n",
       "  <tbody>\n",
       "    <tr>\n",
       "      <th>0</th>\n",
       "      <td>0.770200</td>\n",
       "      <td>0.845012</td>\n",
       "      <td>0.525624</td>\n",
       "      <td>0.807469</td>\n",
       "    </tr>\n",
       "    <tr>\n",
       "      <th>1</th>\n",
       "      <td>0.776827</td>\n",
       "      <td>0.963052</td>\n",
       "      <td>0.728709</td>\n",
       "      <td>0.492033</td>\n",
       "    </tr>\n",
       "    <tr>\n",
       "      <th>2</th>\n",
       "      <td>0.721603</td>\n",
       "      <td>0.924693</td>\n",
       "      <td>0.604385</td>\n",
       "      <td>0.057704</td>\n",
       "    </tr>\n",
       "    <tr>\n",
       "      <th>3</th>\n",
       "      <td>0.545786</td>\n",
       "      <td>0.456914</td>\n",
       "      <td>0.505174</td>\n",
       "      <td>0.551828</td>\n",
       "    </tr>\n",
       "    <tr>\n",
       "      <th>4</th>\n",
       "      <td>0.536287</td>\n",
       "      <td>0.824674</td>\n",
       "      <td>0.011090</td>\n",
       "      <td>0.331492</td>\n",
       "    </tr>\n",
       "  </tbody>\n",
       "</table>\n",
       "</div>"
      ],
      "text/plain": [
       "          0         2         3         4\n",
       "0  0.770200  0.845012  0.525624  0.807469\n",
       "1  0.776827  0.963052  0.728709  0.492033\n",
       "2  0.721603  0.924693  0.604385  0.057704\n",
       "3  0.545786  0.456914  0.505174  0.551828\n",
       "4  0.536287  0.824674  0.011090  0.331492"
      ]
     },
     "execution_count": 161,
     "metadata": {},
     "output_type": "execute_result"
    }
   ],
   "source": [
    "pd.DataFrame()\n",
    "\n",
    "# Create a dataframe from a numpy matrix, specify the shared index, columns\n",
    "tmp = pd.DataFrame([[1,2], [3,4]], index = [\"a\", \"b\"], columns = [\"c\", \"d\"])\n",
    "# Select a column/row (two approaches: sql, bracket), check the type\n",
    "tmp.c\n",
    "tmp.loc[\"a\"]\n",
    "# Notice that we should always use bracket to select column, as sql approach could be messed up with method\n",
    "\n",
    "# Create a new column; drop a existing column(notice the axis is required, but the 0/1 seems to be different to Andrew?\n",
    "#; inplace is needed if the change is expected on the df)\n",
    "tmp[\"e\"] = 1\n",
    "tmp.drop(\"e\", axis = 1)\n",
    "# Select a row/sub dataframe by function loc/iloc; remenber the difference\n",
    "tmp.loc[\"a\"]\n",
    "tmp.iloc[1]\n",
    "# Select dataframe values based on condition(column codition, row condition, etc.)\n",
    "tmp[[col for col in tmp.columns]]\n",
    "\n",
    "# Do logic operation on two series; notice \"and\" is not good here, has to use &\n",
    "tmp\n",
    "\n",
    "# Reset index, see what's going to happen\n",
    "\n",
    "# Add a new column & set a new index by a list\n",
    "tmp[\"f\"] = 2\n",
    "tmp.index = [1,2]\n",
    "tmp\n",
    "# Create a tuple list from two lists by \"zip\" function\n",
    "zip([1,2], [3,4])\n",
    "# Skip: higher index; the idea is using \"xs\" method\n",
    "\n",
    "# Please create a random matrix [100, 5]\n",
    "tmp = np.random.rand(100,5)\n",
    "# Then random split a dataframe with 80/20 ratio, and take the last column as target\n",
    "np.random.shuffle(tmp)\n",
    "tmpp = pd.DataFrame(tmp)\n",
    "# Please use iloc, loc and drop, in total 3 approaches\n",
    "tmpp.drop(1, axis = 1).head()"
   ]
  },
  {
   "cell_type": "code",
   "execution_count": 168,
   "metadata": {
    "collapsed": false
   },
   "outputs": [
    {
     "data": {
      "text/html": [
       "<div>\n",
       "<style scoped>\n",
       "    .dataframe tbody tr th:only-of-type {\n",
       "        vertical-align: middle;\n",
       "    }\n",
       "\n",
       "    .dataframe tbody tr th {\n",
       "        vertical-align: top;\n",
       "    }\n",
       "\n",
       "    .dataframe thead th {\n",
       "        text-align: right;\n",
       "    }\n",
       "</style>\n",
       "<table border=\"1\" class=\"dataframe\">\n",
       "  <thead>\n",
       "    <tr style=\"text-align: right;\">\n",
       "      <th></th>\n",
       "      <th>0</th>\n",
       "      <th>1</th>\n",
       "    </tr>\n",
       "  </thead>\n",
       "  <tbody>\n",
       "    <tr>\n",
       "      <th>0</th>\n",
       "      <td>NaN</td>\n",
       "      <td>NaN</td>\n",
       "    </tr>\n",
       "    <tr>\n",
       "      <th>1</th>\n",
       "      <td>NaN</td>\n",
       "      <td>NaN</td>\n",
       "    </tr>\n",
       "  </tbody>\n",
       "</table>\n",
       "</div>"
      ],
      "text/plain": [
       "    0   1\n",
       "0 NaN NaN\n",
       "1 NaN NaN"
      ]
     },
     "execution_count": 168,
     "metadata": {},
     "output_type": "execute_result"
    }
   ],
   "source": [
    "# Create a dataframe with null values; tips: use np.nan, and dictionary\n",
    "pd.DataFrame([[np.nan] * 2 for x in range(2)])\n",
    "# drop na by row/column with method\n",
    "\n",
    "# fill na by row/column with method\n",
    "pd.DataFrame([[np.nan] * 2 for x in range(2)]).fillna(1)\n",
    "# fill na in a row, with mean\n",
    "tp = pd.DataFrame([[np.nan] * 2 for x in range(2)])\n",
    "tp.fillna(np.mean(tp))"
   ]
  },
  {
   "cell_type": "code",
   "execution_count": 171,
   "metadata": {
    "collapsed": false
   },
   "outputs": [
    {
     "data": {
      "text/html": [
       "<div>\n",
       "<style scoped>\n",
       "    .dataframe tbody tr th:only-of-type {\n",
       "        vertical-align: middle;\n",
       "    }\n",
       "\n",
       "    .dataframe tbody tr th {\n",
       "        vertical-align: top;\n",
       "    }\n",
       "\n",
       "    .dataframe thead tr th {\n",
       "        text-align: left;\n",
       "    }\n",
       "\n",
       "    .dataframe thead tr:last-of-type th {\n",
       "        text-align: right;\n",
       "    }\n",
       "</style>\n",
       "<table border=\"1\" class=\"dataframe\">\n",
       "  <thead>\n",
       "    <tr>\n",
       "      <th></th>\n",
       "      <th colspan=\"8\" halign=\"left\">2</th>\n",
       "      <th colspan=\"5\" halign=\"left\">3</th>\n",
       "      <th colspan=\"8\" halign=\"left\">4</th>\n",
       "    </tr>\n",
       "    <tr>\n",
       "      <th></th>\n",
       "      <th>count</th>\n",
       "      <th>mean</th>\n",
       "      <th>std</th>\n",
       "      <th>min</th>\n",
       "      <th>25%</th>\n",
       "      <th>50%</th>\n",
       "      <th>75%</th>\n",
       "      <th>max</th>\n",
       "      <th>count</th>\n",
       "      <th>mean</th>\n",
       "      <th>...</th>\n",
       "      <th>75%</th>\n",
       "      <th>max</th>\n",
       "      <th>count</th>\n",
       "      <th>mean</th>\n",
       "      <th>std</th>\n",
       "      <th>min</th>\n",
       "      <th>25%</th>\n",
       "      <th>50%</th>\n",
       "      <th>75%</th>\n",
       "      <th>max</th>\n",
       "    </tr>\n",
       "    <tr>\n",
       "      <th>0</th>\n",
       "      <th></th>\n",
       "      <th></th>\n",
       "      <th></th>\n",
       "      <th></th>\n",
       "      <th></th>\n",
       "      <th></th>\n",
       "      <th></th>\n",
       "      <th></th>\n",
       "      <th></th>\n",
       "      <th></th>\n",
       "      <th></th>\n",
       "      <th></th>\n",
       "      <th></th>\n",
       "      <th></th>\n",
       "      <th></th>\n",
       "      <th></th>\n",
       "      <th></th>\n",
       "      <th></th>\n",
       "      <th></th>\n",
       "      <th></th>\n",
       "      <th></th>\n",
       "    </tr>\n",
       "  </thead>\n",
       "  <tbody>\n",
       "    <tr>\n",
       "      <th>0.536287</th>\n",
       "      <td>1.0</td>\n",
       "      <td>0.824674</td>\n",
       "      <td>NaN</td>\n",
       "      <td>0.824674</td>\n",
       "      <td>0.824674</td>\n",
       "      <td>0.824674</td>\n",
       "      <td>0.824674</td>\n",
       "      <td>0.824674</td>\n",
       "      <td>1.0</td>\n",
       "      <td>0.011090</td>\n",
       "      <td>...</td>\n",
       "      <td>0.011090</td>\n",
       "      <td>0.011090</td>\n",
       "      <td>1.0</td>\n",
       "      <td>0.331492</td>\n",
       "      <td>NaN</td>\n",
       "      <td>0.331492</td>\n",
       "      <td>0.331492</td>\n",
       "      <td>0.331492</td>\n",
       "      <td>0.331492</td>\n",
       "      <td>0.331492</td>\n",
       "    </tr>\n",
       "    <tr>\n",
       "      <th>0.545786</th>\n",
       "      <td>1.0</td>\n",
       "      <td>0.456914</td>\n",
       "      <td>NaN</td>\n",
       "      <td>0.456914</td>\n",
       "      <td>0.456914</td>\n",
       "      <td>0.456914</td>\n",
       "      <td>0.456914</td>\n",
       "      <td>0.456914</td>\n",
       "      <td>1.0</td>\n",
       "      <td>0.505174</td>\n",
       "      <td>...</td>\n",
       "      <td>0.505174</td>\n",
       "      <td>0.505174</td>\n",
       "      <td>1.0</td>\n",
       "      <td>0.551828</td>\n",
       "      <td>NaN</td>\n",
       "      <td>0.551828</td>\n",
       "      <td>0.551828</td>\n",
       "      <td>0.551828</td>\n",
       "      <td>0.551828</td>\n",
       "      <td>0.551828</td>\n",
       "    </tr>\n",
       "    <tr>\n",
       "      <th>0.721603</th>\n",
       "      <td>1.0</td>\n",
       "      <td>0.924693</td>\n",
       "      <td>NaN</td>\n",
       "      <td>0.924693</td>\n",
       "      <td>0.924693</td>\n",
       "      <td>0.924693</td>\n",
       "      <td>0.924693</td>\n",
       "      <td>0.924693</td>\n",
       "      <td>1.0</td>\n",
       "      <td>0.604385</td>\n",
       "      <td>...</td>\n",
       "      <td>0.604385</td>\n",
       "      <td>0.604385</td>\n",
       "      <td>1.0</td>\n",
       "      <td>0.057704</td>\n",
       "      <td>NaN</td>\n",
       "      <td>0.057704</td>\n",
       "      <td>0.057704</td>\n",
       "      <td>0.057704</td>\n",
       "      <td>0.057704</td>\n",
       "      <td>0.057704</td>\n",
       "    </tr>\n",
       "    <tr>\n",
       "      <th>0.770200</th>\n",
       "      <td>1.0</td>\n",
       "      <td>0.845012</td>\n",
       "      <td>NaN</td>\n",
       "      <td>0.845012</td>\n",
       "      <td>0.845012</td>\n",
       "      <td>0.845012</td>\n",
       "      <td>0.845012</td>\n",
       "      <td>0.845012</td>\n",
       "      <td>1.0</td>\n",
       "      <td>0.525624</td>\n",
       "      <td>...</td>\n",
       "      <td>0.525624</td>\n",
       "      <td>0.525624</td>\n",
       "      <td>1.0</td>\n",
       "      <td>0.807469</td>\n",
       "      <td>NaN</td>\n",
       "      <td>0.807469</td>\n",
       "      <td>0.807469</td>\n",
       "      <td>0.807469</td>\n",
       "      <td>0.807469</td>\n",
       "      <td>0.807469</td>\n",
       "    </tr>\n",
       "    <tr>\n",
       "      <th>0.776827</th>\n",
       "      <td>1.0</td>\n",
       "      <td>0.963052</td>\n",
       "      <td>NaN</td>\n",
       "      <td>0.963052</td>\n",
       "      <td>0.963052</td>\n",
       "      <td>0.963052</td>\n",
       "      <td>0.963052</td>\n",
       "      <td>0.963052</td>\n",
       "      <td>1.0</td>\n",
       "      <td>0.728709</td>\n",
       "      <td>...</td>\n",
       "      <td>0.728709</td>\n",
       "      <td>0.728709</td>\n",
       "      <td>1.0</td>\n",
       "      <td>0.492033</td>\n",
       "      <td>NaN</td>\n",
       "      <td>0.492033</td>\n",
       "      <td>0.492033</td>\n",
       "      <td>0.492033</td>\n",
       "      <td>0.492033</td>\n",
       "      <td>0.492033</td>\n",
       "    </tr>\n",
       "  </tbody>\n",
       "</table>\n",
       "<p>5 rows × 24 columns</p>\n",
       "</div>"
      ],
      "text/plain": [
       "             2                                                        \\\n",
       "         count      mean std       min       25%       50%       75%   \n",
       "0                                                                      \n",
       "0.536287   1.0  0.824674 NaN  0.824674  0.824674  0.824674  0.824674   \n",
       "0.545786   1.0  0.456914 NaN  0.456914  0.456914  0.456914  0.456914   \n",
       "0.721603   1.0  0.924693 NaN  0.924693  0.924693  0.924693  0.924693   \n",
       "0.770200   1.0  0.845012 NaN  0.845012  0.845012  0.845012  0.845012   \n",
       "0.776827   1.0  0.963052 NaN  0.963052  0.963052  0.963052  0.963052   \n",
       "\n",
       "                       3              ...                            4  \\\n",
       "               max count      mean    ...          75%       max count   \n",
       "0                                     ...                                \n",
       "0.536287  0.824674   1.0  0.011090    ...     0.011090  0.011090   1.0   \n",
       "0.545786  0.456914   1.0  0.505174    ...     0.505174  0.505174   1.0   \n",
       "0.721603  0.924693   1.0  0.604385    ...     0.604385  0.604385   1.0   \n",
       "0.770200  0.845012   1.0  0.525624    ...     0.525624  0.525624   1.0   \n",
       "0.776827  0.963052   1.0  0.728709    ...     0.728709  0.728709   1.0   \n",
       "\n",
       "                                                                          \n",
       "              mean std       min       25%       50%       75%       max  \n",
       "0                                                                         \n",
       "0.536287  0.331492 NaN  0.331492  0.331492  0.331492  0.331492  0.331492  \n",
       "0.545786  0.551828 NaN  0.551828  0.551828  0.551828  0.551828  0.551828  \n",
       "0.721603  0.057704 NaN  0.057704  0.057704  0.057704  0.057704  0.057704  \n",
       "0.770200  0.807469 NaN  0.807469  0.807469  0.807469  0.807469  0.807469  \n",
       "0.776827  0.492033 NaN  0.492033  0.492033  0.492033  0.492033  0.492033  \n",
       "\n",
       "[5 rows x 24 columns]"
      ]
     },
     "execution_count": 171,
     "metadata": {},
     "output_type": "execute_result"
    }
   ],
   "source": [
    "# Dataframe Group by a column, do an aggregation such as mean, sum, min\n",
    "# tips: these would be 2 steps\n",
    "# tips: try both string/numeric columns in dataframe and see groupby result\n",
    "tmpp.drop(1, axis = 1).head().groupby(0).describe()\n",
    "# do a groupby describe\n"
   ]
  },
  {
   "cell_type": "code",
   "execution_count": 185,
   "metadata": {
    "collapsed": false
   },
   "outputs": [
    {
     "name": "stdout",
     "output_type": "stream",
     "text": [
      "[['A0' 'B0' 'C0' 'D0']\n",
      " ['A1' 'B1' 'C1' 'D1']\n",
      " ['A2' 'B2' 'C2' 'D2']\n",
      " ['A3' 'B3' 'C3' 'D3']\n",
      " ['A4' 'B4' 'C4' 'D4']\n",
      " ['A5' 'B5' 'C5' 'D5']\n",
      " ['A6' 'B6' 'C6' 'D6']\n",
      " ['A7' 'B7' 'C7' 'D7']]\n",
      "    A   B   C   D\n",
      "0  A0  B0  C0  D0\n",
      "1  A1  B1  C1  D1\n",
      "2  A2  B2  C2  D2\n",
      "3  A3  B3  C3  D3\n",
      "4  A4  B4  C4  D4\n",
      "5  A5  B5  C5  D5\n",
      "6  A6  B6  C6  D6\n",
      "7  A7  B7  C7  D7\n",
      "    A   B key   C   D\n",
      "0  A0  B0  K0  C0  D0\n",
      "1  A1  B1  K1  C1  D1\n",
      "2  A2  B2  K2  C2  D2\n",
      "3  A3  B3  K3  C3  D3\n",
      "     A   B    C    D\n",
      "K0  A0  B0   C0   D0\n",
      "K1  A1  B1  NaN  NaN\n",
      "K2  A2  B2   C2   D2\n"
     ]
    }
   ],
   "source": [
    "# Concatenate the following dataframes; try to concatenate with both row/columns\n",
    "# Tips: image concatenate as glue, axis as the surface to be glued\n",
    "df1 = pd.DataFrame({'A': ['A0', 'A1', 'A2', 'A3'],\n",
    "                        'B': ['B0', 'B1', 'B2', 'B3'],\n",
    "                        'C': ['C0', 'C1', 'C2', 'C3'],\n",
    "                        'D': ['D0', 'D1', 'D2', 'D3']},\n",
    "                        index=[0, 1, 2, 3])\n",
    "\n",
    "df2 = pd.DataFrame({'A': ['A4', 'A5', 'A6', 'A7'],\n",
    "                        'B': ['B4', 'B5', 'B6', 'B7'],\n",
    "                        'C': ['C4', 'C5', 'C6', 'C7'],\n",
    "                        'D': ['D4', 'D5', 'D6', 'D7']},\n",
    "                         index=[4, 5, 6, 7]) \n",
    "\n",
    "df3 = pd.DataFrame({'A': ['A8', 'A9', 'A10', 'A11'],\n",
    "                        'B': ['B8', 'B9', 'B10', 'B11'],\n",
    "                        'C': ['C8', 'C9', 'C10', 'C11'],\n",
    "                        'D': ['D8', 'D9', 'D10', 'D11']},\n",
    "                        index=[8, 9, 10, 11])\n",
    "#To memorize: concatenate has to input a list\n",
    "print(np.concatenate([df1, df2], axis = 0))\n",
    "print(pd.concat([df1, df2], axis = 0))\n",
    "\n",
    "# Merge the following two dataframes, on \"key\", inner join\n",
    "left = pd.DataFrame({'key': ['K0', 'K1', 'K2', 'K3'],\n",
    "                     'A': ['A0', 'A1', 'A2', 'A3'],\n",
    "                     'B': ['B0', 'B1', 'B2', 'B3']})\n",
    "   \n",
    "right = pd.DataFrame({'key': ['K0', 'K1', 'K2', 'K3'],\n",
    "                          'C': ['C0', 'C1', 'C2', 'C3'],\n",
    "                          'D': ['D0', 'D1', 'D2', 'D3']})    \n",
    "\n",
    "print(pd.merge(left, right,\n",
    "        on = [\"key\"],\n",
    "        how = \"inner\"))\n",
    "# Join the following two dataframes, on index\n",
    "# Notice: the difference between merging vs. joining: on column vs. on index \n",
    "left = pd.DataFrame({'A': ['A0', 'A1', 'A2'],\n",
    "                     'B': ['B0', 'B1', 'B2']},\n",
    "                      index=['K0', 'K1', 'K2']) \n",
    "\n",
    "right = pd.DataFrame({'C': ['C0', 'C2', 'C3'],\n",
    "                    'D': ['D0', 'D2', 'D3']},\n",
    "                      index=['K0', 'K2', 'K3'])\n",
    "\n",
    "print(left.join(right))"
   ]
  },
  {
   "cell_type": "code",
   "execution_count": 199,
   "metadata": {
    "collapsed": false
   },
   "outputs": [
    {
     "name": "stdout",
     "output_type": "stream",
     "text": [
      "(3,)\n",
      "2\n"
     ]
    },
    {
     "data": {
      "text/plain": [
       "0    False\n",
       "1    False\n",
       "2    False\n",
       "3    False\n",
       "Name: col2, dtype: bool"
      ]
     },
     "execution_count": 199,
     "metadata": {},
     "output_type": "execute_result"
    }
   ],
   "source": [
    "df = pd.DataFrame({'col1':[1,2,3,4],'col2':[444,555,666,444],'col3':['abc','def','ghi','xyz']})\n",
    "df.head()\n",
    "\n",
    "# Find unique values of col2; find #unique values in col2\n",
    "print(df[\"col2\"].drop_duplicates().shape)\n",
    "# Count appearance of each value in col2; tips: use value_counts()\n",
    "print(df[\"col2\"].value_counts().loc[444])\n",
    "\n",
    "def times2(x):\n",
    "    return x*2\n",
    "# Apply times2 to col2; notice times2 couldn't be directly used as its scalar input \n",
    "# Apply an equivalent times2 function with lambda function\n",
    "df[\"col2\"].apply(times2)\n",
    "df[\"col2\"].apply(lambda x: x*2)\n",
    "# Show columns/index of a dataframe\n",
    "df.columns\n",
    "df.index\n",
    "# Sort the datafrae by col2\n",
    "df.sort_values(by = \"col2\")\n",
    "# Count how many values are null in the dataframe? Tips: isnull()\n",
    "df[\"col2\"].isnull()\n",
    "# Skip: use pivot_table to create multiple index table"
   ]
  },
  {
   "cell_type": "code",
   "execution_count": 10,
   "metadata": {
    "collapsed": false
   },
   "outputs": [],
   "source": [
    "# Read/Write a CSV file using pandas\n",
    " \n",
    "# Read a excel file, specific sheet\n",
    "\n",
    "# Read a html file using web scrapper with http://www.fdic.gov/bank/individual/failed/banklist.html\n",
    "\n",
    "# Skip: read sql\n"
   ]
  },
  {
   "cell_type": "code",
   "execution_count": 11,
   "metadata": {
    "collapsed": true
   },
   "outputs": [],
   "source": [
    "# Weird cases: in some analysis, the following are different(here it's fine)\n",
    "# In python 3.7, the \"tmp.iloc[0][0]\" is a copy of data, not the data itself, thus it'd not change\n",
    "tmp = pd.DataFrame([[1,1], [2,1]])\n",
    "tmp[0].iloc[0] = 4\n",
    "tmp.iloc[0][0] = 4"
   ]
  },
  {
   "cell_type": "markdown",
   "metadata": {
    "collapsed": true
   },
   "source": [
    "你能把dataframe當sql用就可以了，select，sum，mean，agg，join，rank，sort這些sql都可以轉成df code\n",
    "\n",
    "基本上是考aggregation, sort, case when。"
   ]
  },
  {
   "cell_type": "code",
   "execution_count": 1,
   "metadata": {
    "collapsed": false
   },
   "outputs": [],
   "source": [
    "#linkedin\n",
    "import pandas as pd\n",
    "data = pd.DataFrame({'view_date': ['2019-08-01', '2019-08-02', '2019-08-01', '2019-08-03'],\n",
    "                     'viewer_id': [123, 432, 789, 567],\n",
    "                     'article_id': [456, 543, 456, 780],\n",
    "                     'author_id': [789, 654, 789, 432]\n",
    "                    }) "
   ]
  },
  {
   "cell_type": "code",
   "execution_count": 6,
   "metadata": {
    "collapsed": false
   },
   "outputs": [
    {
     "data": {
      "text/html": [
       "<div>\n",
       "<style scoped>\n",
       "    .dataframe tbody tr th:only-of-type {\n",
       "        vertical-align: middle;\n",
       "    }\n",
       "\n",
       "    .dataframe tbody tr th {\n",
       "        vertical-align: top;\n",
       "    }\n",
       "\n",
       "    .dataframe thead th {\n",
       "        text-align: right;\n",
       "    }\n",
       "</style>\n",
       "<table border=\"1\" class=\"dataframe\">\n",
       "  <thead>\n",
       "    <tr style=\"text-align: right;\">\n",
       "      <th></th>\n",
       "      <th>article_id</th>\n",
       "      <th>author_id</th>\n",
       "      <th>view_date</th>\n",
       "      <th>viewer_id</th>\n",
       "    </tr>\n",
       "  </thead>\n",
       "  <tbody>\n",
       "    <tr>\n",
       "      <th>0</th>\n",
       "      <td>456</td>\n",
       "      <td>789</td>\n",
       "      <td>2019-08-01</td>\n",
       "      <td>123</td>\n",
       "    </tr>\n",
       "    <tr>\n",
       "      <th>1</th>\n",
       "      <td>543</td>\n",
       "      <td>654</td>\n",
       "      <td>2019-08-01</td>\n",
       "      <td>123</td>\n",
       "    </tr>\n",
       "    <tr>\n",
       "      <th>2</th>\n",
       "      <td>456</td>\n",
       "      <td>789</td>\n",
       "      <td>2019-08-01</td>\n",
       "      <td>789</td>\n",
       "    </tr>\n",
       "    <tr>\n",
       "      <th>3</th>\n",
       "      <td>780</td>\n",
       "      <td>654</td>\n",
       "      <td>2019-08-01</td>\n",
       "      <td>567</td>\n",
       "    </tr>\n",
       "  </tbody>\n",
       "</table>\n",
       "</div>"
      ],
      "text/plain": [
       "   article_id  author_id   view_date  viewer_id\n",
       "0         456        789  2019-08-01        123\n",
       "1         543        654  2019-08-01        123\n",
       "2         456        789  2019-08-01        789\n",
       "3         780        654  2019-08-01        567"
      ]
     },
     "execution_count": 6,
     "metadata": {},
     "output_type": "execute_result"
    }
   ],
   "source": [
    "tmp = data.copy()\n",
    "data"
   ]
  },
  {
   "cell_type": "code",
   "execution_count": 9,
   "metadata": {
    "collapsed": false
   },
   "outputs": [
    {
     "data": {
      "text/html": [
       "<div>\n",
       "<style scoped>\n",
       "    .dataframe tbody tr th:only-of-type {\n",
       "        vertical-align: middle;\n",
       "    }\n",
       "\n",
       "    .dataframe tbody tr th {\n",
       "        vertical-align: top;\n",
       "    }\n",
       "\n",
       "    .dataframe thead th {\n",
       "        text-align: right;\n",
       "    }\n",
       "</style>\n",
       "<table border=\"1\" class=\"dataframe\">\n",
       "  <thead>\n",
       "    <tr style=\"text-align: right;\">\n",
       "      <th></th>\n",
       "      <th>article_id_x</th>\n",
       "      <th>author_id_x</th>\n",
       "      <th>view_date_x</th>\n",
       "      <th>viewer_id_x</th>\n",
       "      <th>article_id_y</th>\n",
       "      <th>author_id_y</th>\n",
       "      <th>view_date_y</th>\n",
       "      <th>viewer_id_y</th>\n",
       "    </tr>\n",
       "  </thead>\n",
       "  <tbody>\n",
       "    <tr>\n",
       "      <th>0</th>\n",
       "      <td>456</td>\n",
       "      <td>789</td>\n",
       "      <td>2019-08-01</td>\n",
       "      <td>123</td>\n",
       "      <td>456.0</td>\n",
       "      <td>789.0</td>\n",
       "      <td>2019-08-01</td>\n",
       "      <td>789.0</td>\n",
       "    </tr>\n",
       "    <tr>\n",
       "      <th>1</th>\n",
       "      <td>543</td>\n",
       "      <td>654</td>\n",
       "      <td>2019-08-01</td>\n",
       "      <td>123</td>\n",
       "      <td>NaN</td>\n",
       "      <td>NaN</td>\n",
       "      <td>NaN</td>\n",
       "      <td>NaN</td>\n",
       "    </tr>\n",
       "    <tr>\n",
       "      <th>2</th>\n",
       "      <td>456</td>\n",
       "      <td>789</td>\n",
       "      <td>2019-08-01</td>\n",
       "      <td>789</td>\n",
       "      <td>456.0</td>\n",
       "      <td>789.0</td>\n",
       "      <td>2019-08-01</td>\n",
       "      <td>789.0</td>\n",
       "    </tr>\n",
       "    <tr>\n",
       "      <th>3</th>\n",
       "      <td>780</td>\n",
       "      <td>654</td>\n",
       "      <td>2019-08-01</td>\n",
       "      <td>567</td>\n",
       "      <td>NaN</td>\n",
       "      <td>NaN</td>\n",
       "      <td>NaN</td>\n",
       "      <td>NaN</td>\n",
       "    </tr>\n",
       "  </tbody>\n",
       "</table>\n",
       "</div>"
      ],
      "text/plain": [
       "   article_id_x  author_id_x view_date_x  viewer_id_x  article_id_y  \\\n",
       "0           456          789  2019-08-01          123         456.0   \n",
       "1           543          654  2019-08-01          123           NaN   \n",
       "2           456          789  2019-08-01          789         456.0   \n",
       "3           780          654  2019-08-01          567           NaN   \n",
       "\n",
       "   author_id_y view_date_y  viewer_id_y  \n",
       "0        789.0  2019-08-01        789.0  \n",
       "1          NaN         NaN          NaN  \n",
       "2        789.0  2019-08-01        789.0  \n",
       "3          NaN         NaN          NaN  "
      ]
     },
     "execution_count": 9,
     "metadata": {},
     "output_type": "execute_result"
    }
   ],
   "source": [
    "pd.merge(tmp, data,\n",
    "        left_on = [\"author_id\"],\n",
    "        right_on = [\"viewer_id\"],\n",
    "        how = \"left\")"
   ]
  },
  {
   "cell_type": "code",
   "execution_count": 2,
   "metadata": {
    "collapsed": false
   },
   "outputs": [
    {
     "name": "stdout",
     "output_type": "stream",
     "text": [
      "0\n"
     ]
    },
    {
     "data": {
      "text/html": [
       "<div>\n",
       "<style scoped>\n",
       "    .dataframe tbody tr th:only-of-type {\n",
       "        vertical-align: middle;\n",
       "    }\n",
       "\n",
       "    .dataframe tbody tr th {\n",
       "        vertical-align: top;\n",
       "    }\n",
       "\n",
       "    .dataframe thead tr th {\n",
       "        text-align: left;\n",
       "    }\n",
       "</style>\n",
       "<table border=\"1\" class=\"dataframe\">\n",
       "  <thead>\n",
       "    <tr>\n",
       "      <th></th>\n",
       "      <th>viewer_id</th>\n",
       "      <th>author_id</th>\n",
       "      <th colspan=\"2\" halign=\"left\">article_id</th>\n",
       "    </tr>\n",
       "    <tr>\n",
       "      <th></th>\n",
       "      <th></th>\n",
       "      <th>count</th>\n",
       "      <th>mean</th>\n",
       "      <th>count</th>\n",
       "    </tr>\n",
       "  </thead>\n",
       "  <tbody>\n",
       "    <tr>\n",
       "      <th>0</th>\n",
       "      <td>123</td>\n",
       "      <td>1</td>\n",
       "      <td>456</td>\n",
       "      <td>1</td>\n",
       "    </tr>\n",
       "    <tr>\n",
       "      <th>1</th>\n",
       "      <td>432</td>\n",
       "      <td>1</td>\n",
       "      <td>543</td>\n",
       "      <td>1</td>\n",
       "    </tr>\n",
       "    <tr>\n",
       "      <th>2</th>\n",
       "      <td>567</td>\n",
       "      <td>1</td>\n",
       "      <td>780</td>\n",
       "      <td>1</td>\n",
       "    </tr>\n",
       "    <tr>\n",
       "      <th>3</th>\n",
       "      <td>789</td>\n",
       "      <td>1</td>\n",
       "      <td>456</td>\n",
       "      <td>1</td>\n",
       "    </tr>\n",
       "  </tbody>\n",
       "</table>\n",
       "</div>"
      ],
      "text/plain": [
       "  viewer_id author_id article_id      \n",
       "                count       mean count\n",
       "0       123         1        456     1\n",
       "1       432         1        543     1\n",
       "2       567         1        780     1\n",
       "3       789         1        456     1"
      ]
     },
     "execution_count": 2,
     "metadata": {},
     "output_type": "execute_result"
    }
   ],
   "source": [
    "#Q1： How many members viewed more than one article on 2019-08-01?\n",
    "tmp0 = data[[\"viewer_id\", \"article_id\"]].drop_duplicates()\\\n",
    ".groupby(by = \"viewer_id\").agg(['count']) # 一定记住，都是quote!\n",
    "\n",
    "tmp1 = data[[\"viewer_id\", \"article_id\"]].drop_duplicates()\\\n",
    ".groupby(by = \"viewer_id\").agg(['count']).reset_index()\n",
    "\n",
    "#Memorize: agg() takes either a dictionary or a list \n",
    "tmp2 = data[[\"viewer_id\", \"article_id\", \"author_id\"]].drop_duplicates()\\\n",
    ".groupby(by = \"viewer_id\").agg({\n",
    "    'article_id': ['mean', 'count'],\n",
    "    'author_id': ['count']\n",
    "}).reset_index()\n",
    "\n",
    "print(tmp0[tmp0[\"article_id\"][\"count\"] > 1].shape[0])\n",
    "\n",
    "tmp2"
   ]
  },
  {
   "cell_type": "code",
   "execution_count": 3,
   "metadata": {
    "collapsed": false
   },
   "outputs": [
    {
     "data": {
      "text/plain": [
       "3"
      ]
     },
     "execution_count": 3,
     "metadata": {},
     "output_type": "execute_result"
    }
   ],
   "source": [
    "#Q2： How many article authors have never viewed their own article?\n",
    "data[\"viewer_id\"].shape[0] - data[data.author_id == data.viewer_id][\"viewer_id\"].shape[0]"
   ]
  },
  {
   "cell_type": "markdown",
   "metadata": {
    "collapsed": true
   },
   "source": [
    "table 1 user_id|article_id|date\n",
    "table2 article_id|article_type|\n",
    "<br>\n",
    "1) number of article types each user view on 2019-01-01 --- simple inner join and group by user<br>\n",
    "2) histagram of the number of article types user viewed -- inner join and group by user and then group by number of article type\n"
   ]
  },
  {
   "cell_type": "markdown",
   "metadata": {},
   "source": [
    "1. 各大洲里的几个国家的population，找到每个洲人口最多的国家名字及人口数量，用SQL，然后用Python。"
   ]
  },
  {
   "cell_type": "markdown",
   "metadata": {},
   "source": [
    "第一题，经典的邮箱地址问题"
   ]
  },
  {
   "cell_type": "markdown",
   "metadata": {},
   "source": [
    "经典题目Job posting, # of new job, # of repeated job, # of reactivate job\n"
   ]
  },
  {
   "cell_type": "code",
   "execution_count": 10,
   "metadata": {
    "collapsed": false
   },
   "outputs": [
    {
     "data": {
      "text/html": [
       "<div>\n",
       "<style scoped>\n",
       "    .dataframe tbody tr th:only-of-type {\n",
       "        vertical-align: middle;\n",
       "    }\n",
       "\n",
       "    .dataframe tbody tr th {\n",
       "        vertical-align: top;\n",
       "    }\n",
       "\n",
       "    .dataframe thead th {\n",
       "        text-align: right;\n",
       "    }\n",
       "</style>\n",
       "<table border=\"1\" class=\"dataframe\">\n",
       "  <thead>\n",
       "    <tr style=\"text-align: right;\">\n",
       "      <th></th>\n",
       "      <th></th>\n",
       "      <th>article_id</th>\n",
       "      <th>author_id</th>\n",
       "      <th>view_date</th>\n",
       "      <th>viewer_id</th>\n",
       "    </tr>\n",
       "    <tr>\n",
       "      <th>author_id</th>\n",
       "      <th></th>\n",
       "      <th></th>\n",
       "      <th></th>\n",
       "      <th></th>\n",
       "      <th></th>\n",
       "    </tr>\n",
       "  </thead>\n",
       "  <tbody>\n",
       "    <tr>\n",
       "      <th rowspan=\"2\" valign=\"top\">654</th>\n",
       "      <th>1</th>\n",
       "      <td>543</td>\n",
       "      <td>654</td>\n",
       "      <td>2019-08-01</td>\n",
       "      <td>123</td>\n",
       "    </tr>\n",
       "    <tr>\n",
       "      <th>3</th>\n",
       "      <td>780</td>\n",
       "      <td>654</td>\n",
       "      <td>2019-08-01</td>\n",
       "      <td>567</td>\n",
       "    </tr>\n",
       "    <tr>\n",
       "      <th rowspan=\"2\" valign=\"top\">789</th>\n",
       "      <th>0</th>\n",
       "      <td>456</td>\n",
       "      <td>789</td>\n",
       "      <td>2019-08-01</td>\n",
       "      <td>123</td>\n",
       "    </tr>\n",
       "    <tr>\n",
       "      <th>2</th>\n",
       "      <td>456</td>\n",
       "      <td>789</td>\n",
       "      <td>2019-08-01</td>\n",
       "      <td>789</td>\n",
       "    </tr>\n",
       "  </tbody>\n",
       "</table>\n",
       "</div>"
      ],
      "text/plain": [
       "             article_id  author_id   view_date  viewer_id\n",
       "author_id                                                \n",
       "654       1         543        654  2019-08-01        123\n",
       "          3         780        654  2019-08-01        567\n",
       "789       0         456        789  2019-08-01        123\n",
       "          2         456        789  2019-08-01        789"
      ]
     },
     "execution_count": 10,
     "metadata": {},
     "output_type": "execute_result"
    }
   ],
   "source": [
    "import pandas as pd\n",
    "data = pd.DataFrame({'view_date': ['2019-08-01', '2019-08-01', '2019-08-01', '2019-08-01'],\n",
    "                     'viewer_id': [123, 123, 789, 567],\n",
    "                     'article_id': [456, 543, 456, 780],\n",
    "                     'author_id': [789, 654, 789, 654]\n",
    "                    }) \n",
    "tmp = data.groupby(\"author_id\")\n",
    "tmp.apply(lambda x: x.sort_values(by = \"author_id\"))"
   ]
  },
  {
   "cell_type": "code",
   "execution_count": 211,
   "metadata": {
    "collapsed": false
   },
   "outputs": [
    {
     "data": {
      "text/plain": [
       "1"
      ]
     },
     "execution_count": 211,
     "metadata": {},
     "output_type": "execute_result"
    }
   ],
   "source": [
    "data.author_id.drop_duplicates().shape[0] - \\\n",
    "data[data.viewer_id == data.author_id][\"author_id\"].drop_duplicates().shape[0]"
   ]
  },
  {
   "cell_type": "code",
   "execution_count": 11,
   "metadata": {
    "collapsed": false
   },
   "outputs": [
    {
     "data": {
      "text/html": [
       "<div>\n",
       "<style scoped>\n",
       "    .dataframe tbody tr th:only-of-type {\n",
       "        vertical-align: middle;\n",
       "    }\n",
       "\n",
       "    .dataframe tbody tr th {\n",
       "        vertical-align: top;\n",
       "    }\n",
       "\n",
       "    .dataframe thead th {\n",
       "        text-align: right;\n",
       "    }\n",
       "</style>\n",
       "<table border=\"1\" class=\"dataframe\">\n",
       "  <thead>\n",
       "    <tr style=\"text-align: right;\">\n",
       "      <th></th>\n",
       "      <th>article_id</th>\n",
       "      <th>author_id</th>\n",
       "      <th>view_date</th>\n",
       "      <th>viewer_id</th>\n",
       "    </tr>\n",
       "  </thead>\n",
       "  <tbody>\n",
       "    <tr>\n",
       "      <th>0</th>\n",
       "      <td>456</td>\n",
       "      <td>789</td>\n",
       "      <td>2019-08-01</td>\n",
       "      <td>123</td>\n",
       "    </tr>\n",
       "    <tr>\n",
       "      <th>1</th>\n",
       "      <td>543</td>\n",
       "      <td>654</td>\n",
       "      <td>2019-08-01</td>\n",
       "      <td>123</td>\n",
       "    </tr>\n",
       "    <tr>\n",
       "      <th>2</th>\n",
       "      <td>456</td>\n",
       "      <td>789</td>\n",
       "      <td>2019-08-01</td>\n",
       "      <td>789</td>\n",
       "    </tr>\n",
       "    <tr>\n",
       "      <th>3</th>\n",
       "      <td>780</td>\n",
       "      <td>654</td>\n",
       "      <td>2019-08-01</td>\n",
       "      <td>567</td>\n",
       "    </tr>\n",
       "  </tbody>\n",
       "</table>\n",
       "</div>"
      ],
      "text/plain": [
       "   article_id  author_id   view_date  viewer_id\n",
       "0         456        789  2019-08-01        123\n",
       "1         543        654  2019-08-01        123\n",
       "2         456        789  2019-08-01        789\n",
       "3         780        654  2019-08-01        567"
      ]
     },
     "execution_count": 11,
     "metadata": {},
     "output_type": "execute_result"
    }
   ],
   "source": [
    "data"
   ]
  },
  {
   "cell_type": "code",
   "execution_count": 54,
   "metadata": {
    "collapsed": false
   },
   "outputs": [
    {
     "data": {
      "text/plain": [
       "2    789\n",
       "Name: author_id, dtype: int64"
      ]
     },
     "execution_count": 54,
     "metadata": {},
     "output_type": "execute_result"
    }
   ],
   "source": [
    "data[data.author_id == data.viewer_id][\"author_id\"].sort_values(ascending  = False)"
   ]
  },
  {
   "cell_type": "code",
   "execution_count": null,
   "metadata": {
    "collapsed": true
   },
   "outputs": [],
   "source": []
  },
  {
   "cell_type": "code",
   "execution_count": null,
   "metadata": {
    "collapsed": true
   },
   "outputs": [],
   "source": []
  },
  {
   "cell_type": "code",
   "execution_count": null,
   "metadata": {
    "collapsed": true
   },
   "outputs": [],
   "source": []
  },
  {
   "cell_type": "code",
   "execution_count": null,
   "metadata": {
    "collapsed": true
   },
   "outputs": [],
   "source": []
  },
  {
   "cell_type": "code",
   "execution_count": 71,
   "metadata": {
    "collapsed": true
   },
   "outputs": [],
   "source": [
    "data = pd.DataFrame({'user_id': [1, 1,2, 2, 3,3],\n",
    "                     'view_date': ['2019-08-01', '2019-08-01', '2019-08-01', '2019-08-02', '2019-08-01', '2019-08-01'],\n",
    "                     \n",
    "                     'plat': [\"mobile\", \"desktop\", \"mobile\", \"mobile\", \"desktop\", \"desktop\"],\n",
    "                     'amount': [100, 100,100, 100,100, 100]\n",
    "                    }) "
   ]
  },
  {
   "cell_type": "code",
   "execution_count": 72,
   "metadata": {
    "collapsed": false
   },
   "outputs": [
    {
     "data": {
      "text/html": [
       "<div>\n",
       "<style scoped>\n",
       "    .dataframe tbody tr th:only-of-type {\n",
       "        vertical-align: middle;\n",
       "    }\n",
       "\n",
       "    .dataframe tbody tr th {\n",
       "        vertical-align: top;\n",
       "    }\n",
       "\n",
       "    .dataframe thead th {\n",
       "        text-align: right;\n",
       "    }\n",
       "</style>\n",
       "<table border=\"1\" class=\"dataframe\">\n",
       "  <thead>\n",
       "    <tr style=\"text-align: right;\">\n",
       "      <th></th>\n",
       "      <th>amount</th>\n",
       "      <th>plat</th>\n",
       "      <th>user_id</th>\n",
       "      <th>view_date</th>\n",
       "    </tr>\n",
       "  </thead>\n",
       "  <tbody>\n",
       "    <tr>\n",
       "      <th>0</th>\n",
       "      <td>100</td>\n",
       "      <td>mobile</td>\n",
       "      <td>1</td>\n",
       "      <td>2019-08-01</td>\n",
       "    </tr>\n",
       "    <tr>\n",
       "      <th>1</th>\n",
       "      <td>100</td>\n",
       "      <td>desktop</td>\n",
       "      <td>1</td>\n",
       "      <td>2019-08-01</td>\n",
       "    </tr>\n",
       "    <tr>\n",
       "      <th>2</th>\n",
       "      <td>100</td>\n",
       "      <td>mobile</td>\n",
       "      <td>2</td>\n",
       "      <td>2019-08-01</td>\n",
       "    </tr>\n",
       "    <tr>\n",
       "      <th>3</th>\n",
       "      <td>100</td>\n",
       "      <td>mobile</td>\n",
       "      <td>2</td>\n",
       "      <td>2019-08-02</td>\n",
       "    </tr>\n",
       "    <tr>\n",
       "      <th>4</th>\n",
       "      <td>100</td>\n",
       "      <td>desktop</td>\n",
       "      <td>3</td>\n",
       "      <td>2019-08-01</td>\n",
       "    </tr>\n",
       "    <tr>\n",
       "      <th>5</th>\n",
       "      <td>100</td>\n",
       "      <td>desktop</td>\n",
       "      <td>3</td>\n",
       "      <td>2019-08-01</td>\n",
       "    </tr>\n",
       "  </tbody>\n",
       "</table>\n",
       "</div>"
      ],
      "text/plain": [
       "   amount     plat  user_id   view_date\n",
       "0     100   mobile        1  2019-08-01\n",
       "1     100  desktop        1  2019-08-01\n",
       "2     100   mobile        2  2019-08-01\n",
       "3     100   mobile        2  2019-08-02\n",
       "4     100  desktop        3  2019-08-01\n",
       "5     100  desktop        3  2019-08-01"
      ]
     },
     "execution_count": 72,
     "metadata": {},
     "output_type": "execute_result"
    }
   ],
   "source": [
    "data"
   ]
  },
  {
   "cell_type": "code",
   "execution_count": 73,
   "metadata": {
    "collapsed": false
   },
   "outputs": [
    {
     "data": {
      "text/html": [
       "<div>\n",
       "<style scoped>\n",
       "    .dataframe tbody tr th:only-of-type {\n",
       "        vertical-align: middle;\n",
       "    }\n",
       "\n",
       "    .dataframe tbody tr th {\n",
       "        vertical-align: top;\n",
       "    }\n",
       "\n",
       "    .dataframe thead th {\n",
       "        text-align: right;\n",
       "    }\n",
       "</style>\n",
       "<table border=\"1\" class=\"dataframe\">\n",
       "  <thead>\n",
       "    <tr style=\"text-align: right;\">\n",
       "      <th></th>\n",
       "      <th>amount</th>\n",
       "      <th>plat</th>\n",
       "      <th>user_id</th>\n",
       "      <th>view_date</th>\n",
       "      <th>mobil_spent</th>\n",
       "      <th>desktop_spent</th>\n",
       "    </tr>\n",
       "  </thead>\n",
       "  <tbody>\n",
       "    <tr>\n",
       "      <th>0</th>\n",
       "      <td>100</td>\n",
       "      <td>mobile</td>\n",
       "      <td>1</td>\n",
       "      <td>2019-08-01</td>\n",
       "      <td>100</td>\n",
       "      <td>0</td>\n",
       "    </tr>\n",
       "    <tr>\n",
       "      <th>1</th>\n",
       "      <td>100</td>\n",
       "      <td>desktop</td>\n",
       "      <td>1</td>\n",
       "      <td>2019-08-01</td>\n",
       "      <td>0</td>\n",
       "      <td>100</td>\n",
       "    </tr>\n",
       "    <tr>\n",
       "      <th>2</th>\n",
       "      <td>100</td>\n",
       "      <td>mobile</td>\n",
       "      <td>2</td>\n",
       "      <td>2019-08-01</td>\n",
       "      <td>100</td>\n",
       "      <td>0</td>\n",
       "    </tr>\n",
       "    <tr>\n",
       "      <th>3</th>\n",
       "      <td>100</td>\n",
       "      <td>mobile</td>\n",
       "      <td>2</td>\n",
       "      <td>2019-08-02</td>\n",
       "      <td>100</td>\n",
       "      <td>0</td>\n",
       "    </tr>\n",
       "    <tr>\n",
       "      <th>4</th>\n",
       "      <td>100</td>\n",
       "      <td>desktop</td>\n",
       "      <td>3</td>\n",
       "      <td>2019-08-01</td>\n",
       "      <td>0</td>\n",
       "      <td>100</td>\n",
       "    </tr>\n",
       "    <tr>\n",
       "      <th>5</th>\n",
       "      <td>100</td>\n",
       "      <td>desktop</td>\n",
       "      <td>3</td>\n",
       "      <td>2019-08-01</td>\n",
       "      <td>0</td>\n",
       "      <td>100</td>\n",
       "    </tr>\n",
       "  </tbody>\n",
       "</table>\n",
       "</div>"
      ],
      "text/plain": [
       "   amount     plat  user_id   view_date  mobil_spent  desktop_spent\n",
       "0     100   mobile        1  2019-08-01          100              0\n",
       "1     100  desktop        1  2019-08-01            0            100\n",
       "2     100   mobile        2  2019-08-01          100              0\n",
       "3     100   mobile        2  2019-08-02          100              0\n",
       "4     100  desktop        3  2019-08-01            0            100\n",
       "5     100  desktop        3  2019-08-01            0            100"
      ]
     },
     "execution_count": 73,
     "metadata": {},
     "output_type": "execute_result"
    }
   ],
   "source": [
    "\n",
    "data"
   ]
  },
  {
   "cell_type": "code",
   "execution_count": 75,
   "metadata": {
    "collapsed": false
   },
   "outputs": [
    {
     "data": {
      "text/html": [
       "<div>\n",
       "<style scoped>\n",
       "    .dataframe tbody tr th:only-of-type {\n",
       "        vertical-align: middle;\n",
       "    }\n",
       "\n",
       "    .dataframe tbody tr th {\n",
       "        vertical-align: top;\n",
       "    }\n",
       "\n",
       "    .dataframe thead th {\n",
       "        text-align: right;\n",
       "    }\n",
       "</style>\n",
       "<table border=\"1\" class=\"dataframe\">\n",
       "  <thead>\n",
       "    <tr style=\"text-align: right;\">\n",
       "      <th></th>\n",
       "      <th>view_date</th>\n",
       "      <th>user_id</th>\n",
       "      <th>desktop_spent</th>\n",
       "      <th>mobil_spent</th>\n",
       "    </tr>\n",
       "  </thead>\n",
       "  <tbody>\n",
       "    <tr>\n",
       "      <th>0</th>\n",
       "      <td>2019-08-01</td>\n",
       "      <td>1</td>\n",
       "      <td>100</td>\n",
       "      <td>100</td>\n",
       "    </tr>\n",
       "    <tr>\n",
       "      <th>1</th>\n",
       "      <td>2019-08-01</td>\n",
       "      <td>2</td>\n",
       "      <td>0</td>\n",
       "      <td>100</td>\n",
       "    </tr>\n",
       "    <tr>\n",
       "      <th>2</th>\n",
       "      <td>2019-08-01</td>\n",
       "      <td>3</td>\n",
       "      <td>200</td>\n",
       "      <td>0</td>\n",
       "    </tr>\n",
       "    <tr>\n",
       "      <th>3</th>\n",
       "      <td>2019-08-02</td>\n",
       "      <td>2</td>\n",
       "      <td>0</td>\n",
       "      <td>100</td>\n",
       "    </tr>\n",
       "  </tbody>\n",
       "</table>\n",
       "</div>"
      ],
      "text/plain": [
       "    view_date  user_id  desktop_spent  mobil_spent\n",
       "0  2019-08-01        1            100          100\n",
       "1  2019-08-01        2              0          100\n",
       "2  2019-08-01        3            200            0\n",
       "3  2019-08-02        2              0          100"
      ]
     },
     "execution_count": 75,
     "metadata": {},
     "output_type": "execute_result"
    }
   ],
   "source": []
  },
  {
   "cell_type": "code",
   "execution_count": 114,
   "metadata": {
    "collapsed": false
   },
   "outputs": [
    {
     "name": "stderr",
     "output_type": "stream",
     "text": [
      "/anaconda/lib/python2.7/site-packages/ipykernel/__main__.py:2: SettingWithCopyWarning: \n",
      "A value is trying to be set on a copy of a slice from a DataFrame\n",
      "\n",
      "See the caveats in the documentation: http://pandas.pydata.org/pandas-docs/stable/indexing.html#indexing-view-versus-copy\n",
      "  from ipykernel import kernelapp as app\n",
      "/anaconda/lib/python2.7/site-packages/ipykernel/__main__.py:3: SettingWithCopyWarning: \n",
      "A value is trying to be set on a copy of a slice from a DataFrame\n",
      "\n",
      "See the caveats in the documentation: http://pandas.pydata.org/pandas-docs/stable/indexing.html#indexing-view-versus-copy\n",
      "  app.launch_new_instance()\n"
     ]
    }
   ],
   "source": [
    "\n"
   ]
  },
  {
   "cell_type": "code",
   "execution_count": 115,
   "metadata": {
    "collapsed": false
   },
   "outputs": [
    {
     "data": {
      "text/html": [
       "<div>\n",
       "<style scoped>\n",
       "    .dataframe tbody tr th:only-of-type {\n",
       "        vertical-align: middle;\n",
       "    }\n",
       "\n",
       "    .dataframe tbody tr th {\n",
       "        vertical-align: top;\n",
       "    }\n",
       "\n",
       "    .dataframe thead th {\n",
       "        text-align: right;\n",
       "    }\n",
       "</style>\n",
       "<table border=\"1\" class=\"dataframe\">\n",
       "  <thead>\n",
       "    <tr style=\"text-align: right;\">\n",
       "      <th></th>\n",
       "      <th>view_date</th>\n",
       "      <th>user_id</th>\n",
       "      <th>desktop_spent</th>\n",
       "      <th>mobil_spent</th>\n",
       "      <th>platform</th>\n",
       "      <th>total_spend</th>\n",
       "    </tr>\n",
       "  </thead>\n",
       "  <tbody>\n",
       "    <tr>\n",
       "      <th>0</th>\n",
       "      <td>2019-08-01</td>\n",
       "      <td>1</td>\n",
       "      <td>100</td>\n",
       "      <td>100</td>\n",
       "      <td>both</td>\n",
       "      <td>200</td>\n",
       "    </tr>\n",
       "    <tr>\n",
       "      <th>1</th>\n",
       "      <td>2019-08-01</td>\n",
       "      <td>2</td>\n",
       "      <td>0</td>\n",
       "      <td>100</td>\n",
       "      <td>mobil</td>\n",
       "      <td>100</td>\n",
       "    </tr>\n",
       "    <tr>\n",
       "      <th>2</th>\n",
       "      <td>2019-08-01</td>\n",
       "      <td>3</td>\n",
       "      <td>200</td>\n",
       "      <td>0</td>\n",
       "      <td>desktop</td>\n",
       "      <td>200</td>\n",
       "    </tr>\n",
       "    <tr>\n",
       "      <th>3</th>\n",
       "      <td>2019-08-02</td>\n",
       "      <td>2</td>\n",
       "      <td>0</td>\n",
       "      <td>100</td>\n",
       "      <td>mobil</td>\n",
       "      <td>100</td>\n",
       "    </tr>\n",
       "  </tbody>\n",
       "</table>\n",
       "</div>"
      ],
      "text/plain": [
       "    view_date  user_id  desktop_spent  mobil_spent platform  total_spend\n",
       "0  2019-08-01        1            100          100     both          200\n",
       "1  2019-08-01        2              0          100    mobil          100\n",
       "2  2019-08-01        3            200            0  desktop          200\n",
       "3  2019-08-02        2              0          100    mobil          100"
      ]
     },
     "execution_count": 115,
     "metadata": {},
     "output_type": "execute_result"
    }
   ],
   "source": [
    "tmp"
   ]
  },
  {
   "cell_type": "code",
   "execution_count": 120,
   "metadata": {
    "collapsed": false
   },
   "outputs": [
    {
     "data": {
      "text/html": [
       "<div>\n",
       "<style scoped>\n",
       "    .dataframe tbody tr th:only-of-type {\n",
       "        vertical-align: middle;\n",
       "    }\n",
       "\n",
       "    .dataframe tbody tr th {\n",
       "        vertical-align: top;\n",
       "    }\n",
       "\n",
       "    .dataframe thead tr th {\n",
       "        text-align: left;\n",
       "    }\n",
       "</style>\n",
       "<table border=\"1\" class=\"dataframe\">\n",
       "  <thead>\n",
       "    <tr>\n",
       "      <th></th>\n",
       "      <th>view_date</th>\n",
       "      <th>platform</th>\n",
       "      <th>total_spend</th>\n",
       "      <th>user_id</th>\n",
       "    </tr>\n",
       "    <tr>\n",
       "      <th></th>\n",
       "      <th></th>\n",
       "      <th></th>\n",
       "      <th>sum</th>\n",
       "      <th>count</th>\n",
       "    </tr>\n",
       "  </thead>\n",
       "  <tbody>\n",
       "    <tr>\n",
       "      <th>0</th>\n",
       "      <td>2019-08-01</td>\n",
       "      <td>both</td>\n",
       "      <td>200</td>\n",
       "      <td>1</td>\n",
       "    </tr>\n",
       "    <tr>\n",
       "      <th>1</th>\n",
       "      <td>2019-08-01</td>\n",
       "      <td>desktop</td>\n",
       "      <td>200</td>\n",
       "      <td>1</td>\n",
       "    </tr>\n",
       "    <tr>\n",
       "      <th>2</th>\n",
       "      <td>2019-08-01</td>\n",
       "      <td>mobil</td>\n",
       "      <td>100</td>\n",
       "      <td>1</td>\n",
       "    </tr>\n",
       "    <tr>\n",
       "      <th>3</th>\n",
       "      <td>2019-08-02</td>\n",
       "      <td>mobil</td>\n",
       "      <td>100</td>\n",
       "      <td>1</td>\n",
       "    </tr>\n",
       "  </tbody>\n",
       "</table>\n",
       "</div>"
      ],
      "text/plain": [
       "    view_date platform total_spend user_id\n",
       "                               sum   count\n",
       "0  2019-08-01     both         200       1\n",
       "1  2019-08-01  desktop         200       1\n",
       "2  2019-08-01    mobil         100       1\n",
       "3  2019-08-02    mobil         100       1"
      ]
     },
     "execution_count": 120,
     "metadata": {},
     "output_type": "execute_result"
    }
   ],
   "source": []
  },
  {
   "cell_type": "code",
   "execution_count": 111,
   "metadata": {
    "collapsed": false
   },
   "outputs": [
    {
     "data": {
      "text/html": [
       "<div>\n",
       "<style scoped>\n",
       "    .dataframe tbody tr th:only-of-type {\n",
       "        vertical-align: middle;\n",
       "    }\n",
       "\n",
       "    .dataframe tbody tr th {\n",
       "        vertical-align: top;\n",
       "    }\n",
       "\n",
       "    .dataframe thead th {\n",
       "        text-align: right;\n",
       "    }\n",
       "</style>\n",
       "<table border=\"1\" class=\"dataframe\">\n",
       "  <thead>\n",
       "    <tr style=\"text-align: right;\">\n",
       "      <th></th>\n",
       "      <th>view_date</th>\n",
       "      <th>user_id</th>\n",
       "      <th>desktop_spent</th>\n",
       "      <th>mobil_spent</th>\n",
       "      <th>platform</th>\n",
       "    </tr>\n",
       "  </thead>\n",
       "  <tbody>\n",
       "    <tr>\n",
       "      <th>0</th>\n",
       "      <td>2019-08-01</td>\n",
       "      <td>1</td>\n",
       "      <td>100</td>\n",
       "      <td>100</td>\n",
       "      <td>both</td>\n",
       "    </tr>\n",
       "    <tr>\n",
       "      <th>1</th>\n",
       "      <td>2019-08-01</td>\n",
       "      <td>2</td>\n",
       "      <td>0</td>\n",
       "      <td>100</td>\n",
       "      <td>mobil</td>\n",
       "    </tr>\n",
       "    <tr>\n",
       "      <th>2</th>\n",
       "      <td>2019-08-01</td>\n",
       "      <td>3</td>\n",
       "      <td>200</td>\n",
       "      <td>0</td>\n",
       "      <td>desktop</td>\n",
       "    </tr>\n",
       "    <tr>\n",
       "      <th>3</th>\n",
       "      <td>2019-08-02</td>\n",
       "      <td>2</td>\n",
       "      <td>0</td>\n",
       "      <td>100</td>\n",
       "      <td>mobil</td>\n",
       "    </tr>\n",
       "  </tbody>\n",
       "</table>\n",
       "</div>"
      ],
      "text/plain": [
       "    view_date  user_id  desktop_spent  mobil_spent platform\n",
       "0  2019-08-01        1            100          100     both\n",
       "1  2019-08-01        2              0          100    mobil\n",
       "2  2019-08-01        3            200            0  desktop\n",
       "3  2019-08-02        2              0          100    mobil"
      ]
     },
     "execution_count": 111,
     "metadata": {},
     "output_type": "execute_result"
    }
   ],
   "source": [
    "tmp"
   ]
  },
  {
   "cell_type": "code",
   "execution_count": 108,
   "metadata": {
    "collapsed": false
   },
   "outputs": [
    {
     "name": "stderr",
     "output_type": "stream",
     "text": [
      "/anaconda/lib/python2.7/site-packages/ipykernel/__main__.py:1: SettingWithCopyWarning: \n",
      "A value is trying to be set on a copy of a slice from a DataFrame\n",
      "\n",
      "See the caveats in the documentation: http://pandas.pydata.org/pandas-docs/stable/indexing.html#indexing-view-versus-copy\n",
      "  if __name__ == '__main__':\n"
     ]
    }
   ],
   "source": [
    "tmp[\"platform\"][(tmp[\"desktop_spent\"] == 0) & (tmp[\"mobil_spent\"] > 0)] = \"nwe\""
   ]
  },
  {
   "cell_type": "code",
   "execution_count": 109,
   "metadata": {
    "collapsed": false
   },
   "outputs": [
    {
     "data": {
      "text/html": [
       "<div>\n",
       "<style scoped>\n",
       "    .dataframe tbody tr th:only-of-type {\n",
       "        vertical-align: middle;\n",
       "    }\n",
       "\n",
       "    .dataframe tbody tr th {\n",
       "        vertical-align: top;\n",
       "    }\n",
       "\n",
       "    .dataframe thead th {\n",
       "        text-align: right;\n",
       "    }\n",
       "</style>\n",
       "<table border=\"1\" class=\"dataframe\">\n",
       "  <thead>\n",
       "    <tr style=\"text-align: right;\">\n",
       "      <th></th>\n",
       "      <th>view_date</th>\n",
       "      <th>user_id</th>\n",
       "      <th>desktop_spent</th>\n",
       "      <th>mobil_spent</th>\n",
       "      <th>platform</th>\n",
       "    </tr>\n",
       "  </thead>\n",
       "  <tbody>\n",
       "    <tr>\n",
       "      <th>0</th>\n",
       "      <td>2019-08-01</td>\n",
       "      <td>1</td>\n",
       "      <td>100</td>\n",
       "      <td>100</td>\n",
       "      <td>both</td>\n",
       "    </tr>\n",
       "    <tr>\n",
       "      <th>1</th>\n",
       "      <td>2019-08-01</td>\n",
       "      <td>2</td>\n",
       "      <td>0</td>\n",
       "      <td>100</td>\n",
       "      <td>nwe</td>\n",
       "    </tr>\n",
       "    <tr>\n",
       "      <th>2</th>\n",
       "      <td>2019-08-01</td>\n",
       "      <td>3</td>\n",
       "      <td>200</td>\n",
       "      <td>0</td>\n",
       "      <td>both</td>\n",
       "    </tr>\n",
       "    <tr>\n",
       "      <th>3</th>\n",
       "      <td>2019-08-02</td>\n",
       "      <td>2</td>\n",
       "      <td>0</td>\n",
       "      <td>100</td>\n",
       "      <td>nwe</td>\n",
       "    </tr>\n",
       "  </tbody>\n",
       "</table>\n",
       "</div>"
      ],
      "text/plain": [
       "    view_date  user_id  desktop_spent  mobil_spent platform\n",
       "0  2019-08-01        1            100          100     both\n",
       "1  2019-08-01        2              0          100      nwe\n",
       "2  2019-08-01        3            200            0     both\n",
       "3  2019-08-02        2              0          100      nwe"
      ]
     },
     "execution_count": 109,
     "metadata": {},
     "output_type": "execute_result"
    }
   ],
   "source": [
    "tmp"
   ]
  },
  {
   "cell_type": "code",
   "execution_count": null,
   "metadata": {
    "collapsed": true
   },
   "outputs": [],
   "source": []
  },
  {
   "cell_type": "code",
   "execution_count": 91,
   "metadata": {
    "collapsed": false
   },
   "outputs": [
    {
     "data": {
      "text/plain": [
       "0    False\n",
       "1    False\n",
       "2     True\n",
       "3    False\n",
       "Name: mobil_spent, dtype: bool"
      ]
     },
     "execution_count": 91,
     "metadata": {},
     "output_type": "execute_result"
    }
   ],
   "source": [
    "tmp[\"mobil_spent\"] == 0"
   ]
  },
  {
   "cell_type": "code",
   "execution_count": 97,
   "metadata": {
    "collapsed": false
   },
   "outputs": [
    {
     "data": {
      "text/plain": [
       "0    True\n",
       "dtype: bool"
      ]
     },
     "execution_count": 97,
     "metadata": {},
     "output_type": "execute_result"
    }
   ],
   "source": [
    "pd.Series(True) & pd.Series(True) "
   ]
  },
  {
   "cell_type": "code",
   "execution_count": null,
   "metadata": {
    "collapsed": true
   },
   "outputs": [],
   "source": []
  }
 ],
 "metadata": {
  "anaconda-cloud": {},
  "kernelspec": {
   "display_name": "Python [default]",
   "language": "python",
   "name": "python2"
  },
  "language_info": {
   "codemirror_mode": {
    "name": "ipython",
    "version": 2
   },
   "file_extension": ".py",
   "mimetype": "text/x-python",
   "name": "python",
   "nbconvert_exporter": "python",
   "pygments_lexer": "ipython2",
   "version": "2.7.12"
  }
 },
 "nbformat": 4,
 "nbformat_minor": 1
}
