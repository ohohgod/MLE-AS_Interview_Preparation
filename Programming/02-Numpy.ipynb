{
 "cells": [
  {
   "cell_type": "markdown",
   "metadata": {},
   "source": [
    "# NumPy \n",
    "\n",
    "NumPy (or Numpy) is a Linear Algebra Library for Python, the reason it is so important for Data Science with Python is that almost all of the libraries in the PyData Ecosystem rely on NumPy as one of their main building blocks.\n",
    "\n",
    "Numpy is also incredibly fast, as it has bindings to C libraries. For more info on why you would want to use Arrays instead of lists, check out this great [StackOverflow post](http://stackoverflow.com/questions/993984/why-numpy-instead-of-python-lists).\n",
    "\n",
    "We will only learn the basics of NumPy, to get started we need to install it!"
   ]
  },
  {
   "cell_type": "markdown",
   "metadata": {},
   "source": [
    "PLEASE USE EXPLICIT PARAMETER FOR EACH METHOD/FUNCTION"
   ]
  },
  {
   "cell_type": "code",
   "execution_count": 1,
   "metadata": {
    "collapsed": true
   },
   "outputs": [],
   "source": [
    "import numpy as np "
   ]
  },
  {
   "cell_type": "code",
   "execution_count": 2,
   "metadata": {
    "collapsed": false
   },
   "outputs": [
    {
     "data": {
      "text/plain": [
       "1.2909944487358056"
      ]
     },
     "execution_count": 2,
     "metadata": {},
     "output_type": "execute_result"
    }
   ],
   "source": [
    "# Turn an array/list/matrix into a numpy array\n",
    "np.array([1,2,3])\n",
    "\n",
    "# Create a numpy array from 0 to 11 with step size 2\n",
    "range(0,11,2)\n",
    "# Create a numpy array/matrix with all zero values\n",
    "np.zeros([5,5])\n",
    "# Create a numpy array/matrix with all one values\n",
    "\n",
    "# Create a numpy array from 0 to 5 with 100 steps\n",
    "np.linspace(0, 10, num=50)\n",
    "# Create a random array/matrix from unif[0, 1]\n",
    "np.random.rand(4,4)\n",
    "# Create a random array/matrix from N(0, 1)\n",
    "np.random.randn(4,4)\n",
    "# Create a random array/matrix from integers within 1 to 100\n",
    "np.random.randint(1,100)\n",
    "# Create a random subset from List A with/without replacement; with a weight list;\n",
    "import random\n",
    "np.random.choice([1,2,3], p = [0.1, 0.1, 0.8]) #toMemorize\n",
    "# Reshape a array to a matrix\n",
    "np.array([1,2,3]).reshape(3,1)\n",
    "\n",
    "# Pick the max/min of a matrix\n",
    "np.array([[1,2,3],\n",
    "         [3,4,5]]).max()\n",
    "# Calculate mean/standard deviation/variance of a list/matrix?\n",
    "np.array([[1,2,3],\n",
    "         [3,4,5]]).std()\n",
    "\n",
    "# Append a value to a numpy array\n",
    "\n",
    "# How to calculate inverse of a matrix?"
   ]
  },
  {
   "cell_type": "code",
   "execution_count": null,
   "metadata": {
    "collapsed": true
   },
   "outputs": [],
   "source": []
  },
  {
   "cell_type": "code",
   "execution_count": 58,
   "metadata": {
    "collapsed": false
   },
   "outputs": [
    {
     "data": {
      "text/plain": [
       "array([2, 4])"
      ]
     },
     "execution_count": 58,
     "metadata": {},
     "output_type": "execute_result"
    }
   ],
   "source": [
    "# Use index to select first 5 elements of an array\n",
    "np.array(range(5))[:3]\n",
    "# Change the first 5 elements to 100\n",
    "tmp = np.array(range(5))\n",
    "tmp[:3]=100\n",
    "tmp\n",
    "# do a deep copy of array; remember the a = b is just a mirror\n",
    "a = tmp\n",
    "a[0] = 0\n",
    "tmp\n",
    "# Create a numpy matrix; use both double/single bracket to retrieve element\n",
    "\n",
    "# Create a numpy matrix; use one bracket to grap a sub-matrix\n",
    "\n",
    "# Create a boolean array; use that to retrive a set of elements(first two rows; middle 2*2 cube)\n",
    "a = np.array([[1,2],[3,4]])\n",
    "a[a == [1,2]]\n",
    "# Try multiplication/plus/division for array using broadcast(include a 0)\n",
    "\n",
    "# Use 2 approaches to do max upon array\n",
    "a.max(axis = 1)\n"
   ]
  },
  {
   "cell_type": "code",
   "execution_count": null,
   "metadata": {
    "collapsed": true
   },
   "outputs": [],
   "source": []
  },
  {
   "cell_type": "markdown",
   "metadata": {},
   "source": [
    "# Great Job!"
   ]
  }
 ],
 "metadata": {
  "anaconda-cloud": {},
  "kernelspec": {
   "display_name": "Python [conda root]",
   "language": "python",
   "name": "conda-root-py"
  },
  "language_info": {
   "codemirror_mode": {
    "name": "ipython",
    "version": 2
   },
   "file_extension": ".py",
   "mimetype": "text/x-python",
   "name": "python",
   "nbconvert_exporter": "python",
   "pygments_lexer": "ipython2",
   "version": "2.7.12"
  }
 },
 "nbformat": 4,
 "nbformat_minor": 1
}
